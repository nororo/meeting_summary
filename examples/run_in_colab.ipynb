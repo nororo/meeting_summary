{
 "cells": [
  {
   "cell_type": "markdown",
   "metadata": {},
   "source": [
    "# 音声文字起こし・要約アプリケーション\n",
    "\n",
    "このノートブックでは、音声ファイルから文字起こしを行い、LLMを用いた要約や質疑応答を提供するWebアプリケーションを起動します。\n",
    "\n",
    "## 1. 必要なライブラリのインストール"
   ]
  },
  {
   "cell_type": "code",
   "execution_count": null,
   "metadata": {},
   "source": [
    "!git clone https://github.com/your-username/audio-transcription-app.git\n",
    "%cd audio-transcription-app\n",
    "!pip install -r requirements.txt"
   ]
  },
  {
   "cell_type": "markdown",
   "metadata": {},
   "source": [
    "## 2. APIキーの設定\n",
    "\n",
    "セキュリティのため、Google Colabのシークレット機能を使用します。以下の手順でAPIキーを設定してください。\n",
    "\n",
    "1. 左サイドバーの🔑アイコンをクリック\n",
    "2. 「+ Add new secret」をクリック\n",
    "3. 以下のキーを追加:\n",
    "   - `DEEPGRAM_API_KEY`\n",
    "   - `GROQ_API_KEY`\n",
    "   - `AZURE_OPENAI_KEY`\n",
    "   - `AZURE_OPENAI_ENDPOINT`"
   ]
  },
  {
   "cell_type": "code",
   "execution_count": null,
   "metadata": {},
   "source": [
    "import os\n",
    "from google.colab import userdata\n",
    "\n",
    "# APIキーの取得と環境変数への設定\n",
    "try:\n",
    "    os.environ[\"DEEPGRAM_API_KEY\"] = userdata.get('DEEPGRAM_API_KEY')\n",
    "    print(\"✅ Deepgram APIキーを設定しました\")\n",
    "except Exception:\n",
    "    print(\"⚠️ Deepgram APIキーが設定されていません\")\n",
    "\n",
    "try:\n",
    "    os.environ[\"GROQ_API_KEY\"] = userdata.get('GROQ_API_KEY')\n",
    "    print(\"✅ Groq APIキーを設定しました\")\n",
    "except Exception:\n",
    "    print(\"⚠️ Groq APIキーが設定されていません\")\n",
    "\n",
    "try:\n",
    "    os.environ[\"AZURE_OPENAI_KEY\"] = userdata.get('AZURE_OPENAI_KEY')\n",
    "    os.environ[\"AZURE_OPENAI_ENDPOINT\"] = userdata.get('AZURE_OPENAI_ENDPOINT')\n",
    "    print(\"✅ Azure OpenAI APIキーとエンドポイントを設定しました\")\n",
    "except Exception:\n",
    "    print(\"⚠️ Azure OpenAI設定が完了していません\")"
   ]
  },
  {
   "cell_type": "markdown",
   "metadata": {},
   "source": [
    "## 3. アプリケーションの起動"
   ]
  },
  {
   "cell_type": "code",
   "execution_count": null,
   "metadata": {},
   "source": [
    "from google.colab import output\n",
    "output.serve_kernel_port_as_window(7860)\n",
    "!python app.py"
   ]
  }
 ],
 "metadata": {
  "colab": {
   "name": "音声文字起こし・要約アプリケーション",
   "provenance": []
  },
  "kernelspec": {
   "display_name": "Python 3",
   "language": "python",
   "name": "python3"
  },
  "language_info": {
   "codemirror_mode": {
    "name": "ipython",
    "version": 3
   },
   "file_extension": ".py",
   "mimetype": "text/x-python",
   "name": "python",
   "nbconvert_exporter": "python",
   "pygments_lexer": "ipython3",
   "version": "3.9.10"
  }
 },
 "nbformat": 4,
 "nbformat_minor": 4
}
