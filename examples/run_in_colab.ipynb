{
  "cells": [
    {
      "cell_type": "markdown",
      "metadata": {
        "id": "title_cell"
      },
      "source": [
        "# 音声文字起こし・要約Q&Aアプリケーション\n",
        "\n",
        "このノートブックは、音声ファイルから文字起こしを行い、要約や質疑応答機能を提供するウェブアプリケーションを実行するためのものです。"
      ]
    },
    {
      "cell_type": "markdown",
      "metadata": {
        "id": "setup_cell"
      },
      "source": [
        "## 5. アプリケーションの停止

アプリケーションの使用が終わったら、以下のコードでサーバーを停止します。1. 環境のセットアップ\n",
        "\n",
        "まず、必要なリポジトリをクローンし、依存関係をインストールします。"
      ]
    },
    {
      "cell_type": "code",
      "execution_count": null,
      "metadata": {
        "id": "clone_repo"
      },
      "outputs": [],
      "source": [
        "# リポジトリをクローン（この例ではリポジトリURLを実際のものに置き換えてください）\n",
        "!git clone https://github.com/your-username/audio-transcription-app.git\n",
        "# リポジトリディレクトリに移動\n",
        "%cd audio-transcription-app"
      ]
    },
    {
      "cell_type": "markdown",
      "metadata": {
        "id": "api_key_cell"
      },
      "source": [
        "## 2. APIキーの設定\n",
        "\n",
        "**重要**: このアプリケーションでは以下のAPIキーが必要です。Google Colabのシークレット機能を使用して設定してください。\n",
        "\n",
        "シークレットを追加する方法:\n",
        "1. 左側のメニューから「シークレット」を選択\n",
        "2. 「追加」ボタンをクリック\n",
        "3. 以下の名前と値のペアを追加\n",
        "\n",
        "必要なAPIキー:\n",
        "- `OPENAI_API_KEY`: OpenAI APIキー\n",
        "- `DEEPGRAM_API_KEY`: Deepgram APIキー\n",
        "- `GROQ_API_KEY`: Groq APIキー\n",
        "- `AZURE_OPENAI_KEY`: Azure OpenAI APIキー\n",
        "- `AZURE_OPENAI_ENDPOINT`: Azure OpenAI エンドポイント"
      ]
    },
    {
      "cell_type": "code",
      "execution_count": null,
      "metadata": {
        "id": "verify_secrets"
      },
      "outputs": [],
      "source": [
        "# APIキーが設定されているか確認\n",
        "import os\n",
        "try:\n",
        "    from google.colab import userdata\n",
        "    \n",
        "    # 必要なAPIキーのリスト\n",
        "    api_keys = [\n",
        "        \"OPENAI_API_KEY\",\n",
        "        \"DEEPGRAM_API_KEY\",\n",
        "        \"GROQ_API_KEY\",\n",
        "        \"AZURE_OPENAI_KEY\",\n",
        "        \"AZURE_OPENAI_ENDPOINT\"\n",
        "    ]\n",
        "    \n",
        "    # APIキーの設定状況を表示\n",
        "    for key in api_keys:\n",
        "        try:\n",
        "            value = userdata.get(key)\n",
        "            if value:\n",
        "                print(f\"✅ {key} は設定されています\")\n",
        "            else:\n",
        "                print(f\"❌ {key} は設定されていませんが、値が空です\")\n",
        "        except Exception:\n",
        "            print(f\"❌ {key} は設定されていません\")\n",
        "            \n",
        "except ImportError:\n",
        "    print(\"❌ Google Colabのシークレット機能にアクセスできません\")"
      ]
    },
    {
      "cell_type": "markdown",
      "metadata": {
        "id": "setup_app_cell"
      },
      "source": [
        "## 3. アプリケーションのセットアップ\n",
        "\n",
        "依存関係をインストールし、アプリケーションの環境を設定します。"
      ]
    },
    {
      "cell_type": "code",
      "execution_count": null,
      "metadata": {
        "id": "run_setup"
      },
      "outputs": [],
      "source": [
        "# セットアップスクリプトを実行\n",
        "!python setup.py"
      ]
    },
    {
      "cell_type": "markdown",
      "metadata": {
        "id": "run_app_cell"
      },
      "source": [
        "## 4. アプリケーションの実行\n",
        "\n",
        "ウェブアプリケーションを起動し、インターフェースを表示します。"
      ]
    },
    {
      "cell_type": "code",
      "execution_count": null,
      "metadata": {
        "id": "start_server"
      },
      "outputs": [],
      "source": [
        "# ポート番号を設定\n",
        "PORT = 8000\n",
        "\n",
        "# サーバーを起動（バックグラウンドで実行）\n",
        "!nohup python app.py > server.log 2>&1 &\n",
        "\n",
        "# 数秒待機してサーバーの起動を確認\n",
        "import time\n",
        "time.sleep(3)\n",
        "\n",
        "# サーバーログを表示\n",
        "!tail server.log"
      ]
    },
    {
      "cell_type": "code",
      "execution_count": null,
      "metadata": {
        "id": "show_interface"
      },
      "outputs": [],
      "source": [
        "# ブラウザでアプリケーションを表示\n",
        "from google.colab import output\n",
        "output.serve_kernel_port_as_window(PORT, path=\"/\")"
      ]
    },
    {
      "cell_type": "markdown",
      "metadata": {
        "id": "stop_server_cell"
      },
      "source": [
        "##
